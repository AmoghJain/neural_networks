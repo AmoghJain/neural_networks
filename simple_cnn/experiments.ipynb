{
 "cells": [
  {
   "cell_type": "code",
   "execution_count": 1,
   "id": "8baf128b-4810-4397-948f-95592d99f11e",
   "metadata": {
    "tags": []
   },
   "outputs": [
    {
     "name": "stderr",
     "output_type": "stream",
     "text": [
      "2023-07-20 01:08:43.076856: I tensorflow/core/util/port.cc:110] oneDNN custom operations are on. You may see slightly different numerical results due to floating-point round-off errors from different computation orders. To turn them off, set the environment variable `TF_ENABLE_ONEDNN_OPTS=0`.\n",
      "2023-07-20 01:08:43.404039: I tensorflow/core/platform/cpu_feature_guard.cc:182] This TensorFlow binary is optimized to use available CPU instructions in performance-critical operations.\n",
      "To enable the following instructions: AVX2 AVX_VNNI FMA, in other operations, rebuild TensorFlow with the appropriate compiler flags.\n",
      "2023-07-20 01:08:44.217025: W tensorflow/compiler/tf2tensorrt/utils/py_utils.cc:38] TF-TRT Warning: Could not find TensorRT\n"
     ]
    }
   ],
   "source": [
    "import os\n",
    "import cv2\n",
    "import numpy as np\n",
    "import tensorflow as tf\n",
    "from keras import backend\n",
    "from tensorflow import keras\n",
    "from sklearn.utils import shuffle\n",
    "from keras.models import Sequential\n",
    "from keras.layers import Dense, Conv2D, Dropout, MaxPool2D, Flatten, Input, BatchNormalization"
   ]
  },
  {
   "cell_type": "code",
   "execution_count": 2,
   "id": "597d7965-44ae-4a70-8f01-2c3d25a6c7ff",
   "metadata": {
    "tags": []
   },
   "outputs": [],
   "source": [
    "def load_data(train_data_dir, pred_data_dir, test_data_dir):\n",
    "    \n",
    "    x_train = list()\n",
    "    y_train = list()\n",
    "    x_pred = list()\n",
    "    x_test = list()\n",
    "    y_test = list()\n",
    "    \n",
    "    for label in os.listdir(train_data_dir):\n",
    "        for img_file in os.listdir(os.path.join(train_data_dir, label)):\n",
    "            img = cv2.imread(os.path.join(train_data_dir, label, img_file))\n",
    "            img = cv2.resize(img, [150, 150])\n",
    "            x_train.append(img)\n",
    "            y_train.append(label)\n",
    "            \n",
    "    for label in os.listdir(test_data_dir):\n",
    "        for img_file in os.listdir(os.path.join(test_data_dir, label)):\n",
    "            img = cv2.imread(os.path.join(test_data_dir, label, img_file))\n",
    "            img = cv2.resize(img, [150, 150])\n",
    "            x_test.append(img)\n",
    "            y_test.append(label)\n",
    "    \n",
    "    for img_file in os.listdir(pred_data_dir):\n",
    "        img = cv2.imread(os.path.join(pred_data_dir, img_file))\n",
    "        img = cv2.resize(img, [150, 150])\n",
    "        x_pred.append(img)\n",
    "        \n",
    "    x_train = np.array(x_train)\n",
    "    y_train = np.array(y_train)\n",
    "    x_pred = np.array(x_pred)\n",
    "    x_test = np.array(x_test)\n",
    "    y_test = np.array(y_test)\n",
    "    \n",
    "    return x_train, y_train, x_pred, x_test, y_test"
   ]
  },
  {
   "cell_type": "code",
   "execution_count": 3,
   "id": "02e32cbd-bafc-451e-a9bc-b45bf95fbe2b",
   "metadata": {
    "tags": []
   },
   "outputs": [],
   "source": [
    "train_data_dir = \"../data/intel/seg_train/seg_train/\"\n",
    "test_data_dir = \"../data/intel/seg_test/seg_test/\"\n",
    "pred_data_dir = \"../data/intel/seg_pred/seg_pred/\"\n",
    "x_train, y_train, x_pred, x_test, y_test = load_data(train_data_dir, pred_data_dir, test_data_dir)"
   ]
  },
  {
   "cell_type": "code",
   "execution_count": 4,
   "id": "a23793d4-87b5-4d58-a693-e38d04134448",
   "metadata": {
    "tags": []
   },
   "outputs": [],
   "source": [
    "def onehot_encode(ys):\n",
    "    mappings_dict = dict()\n",
    "    for index, item in enumerate(list(set(ys))):\n",
    "        mappings_dict[item] = index\n",
    "    ys = [mappings_dict[y] for y in ys]\n",
    "    ys = keras.utils.to_categorical(ys)\n",
    "    return ys"
   ]
  },
  {
   "cell_type": "code",
   "execution_count": 5,
   "id": "faecfb14-02a9-493a-b1ee-cbe09ade2a56",
   "metadata": {
    "tags": []
   },
   "outputs": [],
   "source": [
    "y_train = onehot_encode(y_train)\n",
    "y_test = onehot_encode(y_test)"
   ]
  },
  {
   "cell_type": "code",
   "execution_count": 6,
   "id": "635abaed-b8de-4e0a-9f6f-7d8d3f6b9671",
   "metadata": {
    "tags": []
   },
   "outputs": [],
   "source": [
    "x_train, y_train = shuffle(x_train, y_train)\n",
    "x_test, y_test = shuffle(x_test, y_test)"
   ]
  },
  {
   "cell_type": "code",
   "execution_count": 7,
   "id": "625b3a99-4283-40f0-b32f-cf0d8d67d608",
   "metadata": {
    "tags": []
   },
   "outputs": [],
   "source": [
    "x_train = x_train.astype(np.float64)\n",
    "x_test = x_test.astype(np.float64)\n",
    "x_train = x_train/255.\n",
    "x_test = x_test/255.\n",
    "# x_train = x_train.reshape((x_train.shape[0], 150, 150, 1))\n",
    "# x_test = x_test.reshape((x_test.shape[0], 150, 150, 1))"
   ]
  },
  {
   "cell_type": "code",
   "execution_count": 8,
   "id": "b8fb58e6-e028-4a9d-b161-9925179715a3",
   "metadata": {
    "tags": []
   },
   "outputs": [
    {
     "name": "stdout",
     "output_type": "stream",
     "text": [
      "(14034, 150, 150, 3) (14034, 6) (3000, 150, 150, 3) (3000, 6)\n"
     ]
    }
   ],
   "source": [
    "print(x_train.shape, y_train.shape, x_test.shape, y_test.shape)"
   ]
  },
  {
   "cell_type": "code",
   "execution_count": 9,
   "id": "e58ec7fa-47b5-4d6f-9e44-5d75ce85b926",
   "metadata": {
    "tags": []
   },
   "outputs": [
    {
     "name": "stderr",
     "output_type": "stream",
     "text": [
      "2023-07-20 01:09:54.561717: I tensorflow/compiler/xla/stream_executor/cuda/cuda_gpu_executor.cc:982] could not open file to read NUMA node: /sys/bus/pci/devices/0000:01:00.0/numa_node\n",
      "Your kernel may have been built without NUMA support.\n",
      "2023-07-20 01:09:55.051663: I tensorflow/compiler/xla/stream_executor/cuda/cuda_gpu_executor.cc:982] could not open file to read NUMA node: /sys/bus/pci/devices/0000:01:00.0/numa_node\n",
      "Your kernel may have been built without NUMA support.\n",
      "2023-07-20 01:09:55.051777: I tensorflow/compiler/xla/stream_executor/cuda/cuda_gpu_executor.cc:982] could not open file to read NUMA node: /sys/bus/pci/devices/0000:01:00.0/numa_node\n",
      "Your kernel may have been built without NUMA support.\n",
      "2023-07-20 01:09:55.076267: I tensorflow/compiler/xla/stream_executor/cuda/cuda_gpu_executor.cc:982] could not open file to read NUMA node: /sys/bus/pci/devices/0000:01:00.0/numa_node\n",
      "Your kernel may have been built without NUMA support.\n",
      "2023-07-20 01:09:55.076369: I tensorflow/compiler/xla/stream_executor/cuda/cuda_gpu_executor.cc:982] could not open file to read NUMA node: /sys/bus/pci/devices/0000:01:00.0/numa_node\n",
      "Your kernel may have been built without NUMA support.\n",
      "2023-07-20 01:09:55.076399: I tensorflow/compiler/xla/stream_executor/cuda/cuda_gpu_executor.cc:982] could not open file to read NUMA node: /sys/bus/pci/devices/0000:01:00.0/numa_node\n",
      "Your kernel may have been built without NUMA support.\n",
      "2023-07-20 01:10:01.591453: I tensorflow/compiler/xla/stream_executor/cuda/cuda_gpu_executor.cc:982] could not open file to read NUMA node: /sys/bus/pci/devices/0000:01:00.0/numa_node\n",
      "Your kernel may have been built without NUMA support.\n",
      "2023-07-20 01:10:01.592048: I tensorflow/compiler/xla/stream_executor/cuda/cuda_gpu_executor.cc:982] could not open file to read NUMA node: /sys/bus/pci/devices/0000:01:00.0/numa_node\n",
      "Your kernel may have been built without NUMA support.\n",
      "2023-07-20 01:10:01.592069: I tensorflow/core/common_runtime/gpu/gpu_device.cc:1722] Could not identify NUMA node of platform GPU id 0, defaulting to 0.  Your kernel may not have been built with NUMA support.\n",
      "2023-07-20 01:10:01.592104: I tensorflow/compiler/xla/stream_executor/cuda/cuda_gpu_executor.cc:982] could not open file to read NUMA node: /sys/bus/pci/devices/0000:01:00.0/numa_node\n",
      "Your kernel may have been built without NUMA support.\n",
      "2023-07-20 01:10:01.592128: I tensorflow/core/common_runtime/gpu/gpu_device.cc:1635] Created device /job:localhost/replica:0/task:0/device:GPU:0 with 9509 MB memory:  -> device: 0, name: NVIDIA GeForce RTX 3060, pci bus id: 0000:01:00.0, compute capability: 8.6\n"
     ]
    }
   ],
   "source": [
    "model = tf.keras.Sequential([\n",
    "            tf.keras.Input(shape = (150, 150, 3)),\n",
    "            tf.keras.layers.Conv2D(32, (3, 3), padding='same', activation='relu'),\n",
    "            tf.keras.layers.Conv2D(64, (3, 3), padding='same', activation='relu'),\n",
    "            tf.keras.layers.BatchNormalization(),\n",
    "            tf.keras.layers.MaxPooling2D((2, 2), strides=2),\n",
    "            tf.keras.layers.Conv2D(128, (3, 3), padding='same', activation='relu'),\n",
    "            tf.keras.layers.BatchNormalization(),\n",
    "            tf.keras.layers.MaxPooling2D((2, 2), strides=2),\n",
    "            tf.keras.layers.Flatten(),\n",
    "            tf.keras.layers.Dense(128, activation = 'relu'),\n",
    "            tf.keras.layers.BatchNormalization(),\n",
    "            tf.keras.layers.Dropout(0.2),\n",
    "            tf.keras.layers.Dense(6, activation = 'softmax'),\n",
    "])\n",
    "model.compile(optimizer='adam', loss='categorical_crossentropy', metrics=['accuracy'])"
   ]
  },
  {
   "cell_type": "code",
   "execution_count": 10,
   "id": "6ddf27af-c499-49a2-aebb-5a238be27e53",
   "metadata": {
    "tags": []
   },
   "outputs": [
    {
     "name": "stdout",
     "output_type": "stream",
     "text": [
      "Epoch 1/30\n"
     ]
    },
    {
     "name": "stderr",
     "output_type": "stream",
     "text": [
      "2023-07-20 01:10:36.987100: I tensorflow/compiler/xla/stream_executor/cuda/cuda_dnn.cc:424] Loaded cuDNN version 8900\n",
      "2023-07-20 01:10:40.457179: I tensorflow/tsl/platform/default/subprocess.cc:304] Start cannot spawn child process: No such file or directory\n",
      "2023-07-20 01:10:43.462809: I tensorflow/compiler/xla/stream_executor/cuda/cuda_blas.cc:637] TensorFloat-32 will be used for the matrix multiplication. This will only be logged once.\n",
      "2023-07-20 01:10:43.562340: I tensorflow/compiler/xla/service/service.cc:169] XLA service 0x2bab6830 initialized for platform CUDA (this does not guarantee that XLA will be used). Devices:\n",
      "2023-07-20 01:10:43.562402: I tensorflow/compiler/xla/service/service.cc:177]   StreamExecutor device (0): NVIDIA GeForce RTX 3060, Compute Capability 8.6\n",
      "2023-07-20 01:10:43.675993: I tensorflow/compiler/mlir/tensorflow/utils/dump_mlir_util.cc:269] disabling MLIR crash reproducer, set env var `MLIR_CRASH_REPRODUCER_DIRECTORY` to enable.\n",
      "2023-07-20 01:10:44.081504: I tensorflow/tsl/platform/default/subprocess.cc:304] Start cannot spawn child process: No such file or directory\n",
      "2023-07-20 01:10:44.199250: I ./tensorflow/compiler/jit/device_compiler.h:180] Compiled cluster using XLA!  This line is logged at most once for the lifetime of the process.\n"
     ]
    },
    {
     "name": "stdout",
     "output_type": "stream",
     "text": [
      "702/702 [==============================] - 49s 47ms/step - loss: 0.9203 - accuracy: 0.6679 - val_loss: 0.8349 - val_accuracy: 0.6879\n",
      "Epoch 2/30\n",
      "702/702 [==============================] - 22s 31ms/step - loss: 0.6702 - accuracy: 0.7545 - val_loss: 0.8026 - val_accuracy: 0.6997\n",
      "Epoch 3/30\n",
      "702/702 [==============================] - 22s 31ms/step - loss: 0.5659 - accuracy: 0.7950 - val_loss: 0.7836 - val_accuracy: 0.7022\n",
      "Epoch 4/30\n",
      "702/702 [==============================] - 22s 31ms/step - loss: 0.4218 - accuracy: 0.8489 - val_loss: 0.5959 - val_accuracy: 0.7862\n",
      "Epoch 5/30\n",
      "702/702 [==============================] - 22s 31ms/step - loss: 0.2669 - accuracy: 0.9089 - val_loss: 0.6088 - val_accuracy: 0.8130\n",
      "Epoch 6/30\n",
      "702/702 [==============================] - 22s 31ms/step - loss: 0.1778 - accuracy: 0.9410 - val_loss: 0.6641 - val_accuracy: 0.7959\n",
      "Epoch 7/30\n",
      "702/702 [==============================] - 22s 31ms/step - loss: 0.1876 - accuracy: 0.9347 - val_loss: 1.8469 - val_accuracy: 0.5668\n",
      "Epoch 8/30\n",
      "702/702 [==============================] - 22s 31ms/step - loss: 0.1441 - accuracy: 0.9541 - val_loss: 0.8187 - val_accuracy: 0.7720\n",
      "Epoch 9/30\n",
      "702/702 [==============================] - 21s 31ms/step - loss: 0.0755 - accuracy: 0.9743 - val_loss: 0.8101 - val_accuracy: 0.7994\n",
      "Epoch 10/30\n",
      "702/702 [==============================] - 22s 31ms/step - loss: 0.0657 - accuracy: 0.9787 - val_loss: 0.8133 - val_accuracy: 0.7909\n",
      "Epoch 11/30\n",
      "702/702 [==============================] - 21s 31ms/step - loss: 0.0590 - accuracy: 0.9805 - val_loss: 0.8487 - val_accuracy: 0.8012\n",
      "Epoch 12/30\n",
      "702/702 [==============================] - 22s 31ms/step - loss: 0.0691 - accuracy: 0.9772 - val_loss: 4.3096 - val_accuracy: 0.4881\n",
      "Epoch 13/30\n",
      "702/702 [==============================] - 22s 31ms/step - loss: 0.0553 - accuracy: 0.9829 - val_loss: 0.8481 - val_accuracy: 0.7991\n",
      "Epoch 14/30\n",
      "702/702 [==============================] - 21s 31ms/step - loss: 0.1018 - accuracy: 0.9682 - val_loss: 0.8191 - val_accuracy: 0.7905\n",
      "Epoch 15/30\n",
      "702/702 [==============================] - 22s 31ms/step - loss: 0.0643 - accuracy: 0.9792 - val_loss: 0.8532 - val_accuracy: 0.8062\n",
      "Epoch 16/30\n",
      "702/702 [==============================] - 22s 31ms/step - loss: 0.0294 - accuracy: 0.9906 - val_loss: 0.9242 - val_accuracy: 0.8058\n",
      "Epoch 17/30\n",
      "702/702 [==============================] - 22s 31ms/step - loss: 0.0281 - accuracy: 0.9911 - val_loss: 0.8400 - val_accuracy: 0.8026\n",
      "Epoch 18/30\n",
      "702/702 [==============================] - 22s 31ms/step - loss: 0.0278 - accuracy: 0.9919 - val_loss: 0.8649 - val_accuracy: 0.7980\n",
      "Epoch 19/30\n",
      "702/702 [==============================] - 22s 31ms/step - loss: 0.0338 - accuracy: 0.9892 - val_loss: 0.9251 - val_accuracy: 0.7955\n",
      "Epoch 20/30\n",
      "702/702 [==============================] - 22s 31ms/step - loss: 0.0381 - accuracy: 0.9882 - val_loss: 1.1234 - val_accuracy: 0.7934\n",
      "Epoch 21/30\n",
      "702/702 [==============================] - 22s 31ms/step - loss: 0.0265 - accuracy: 0.9915 - val_loss: 0.9629 - val_accuracy: 0.8112\n",
      "Epoch 22/30\n",
      "702/702 [==============================] - 22s 31ms/step - loss: 0.0322 - accuracy: 0.9896 - val_loss: 1.2883 - val_accuracy: 0.7784\n",
      "Epoch 23/30\n",
      "702/702 [==============================] - 22s 31ms/step - loss: 0.0276 - accuracy: 0.9909 - val_loss: 1.0859 - val_accuracy: 0.8012\n",
      "Epoch 24/30\n",
      "702/702 [==============================] - 22s 31ms/step - loss: 0.0273 - accuracy: 0.9915 - val_loss: 1.0285 - val_accuracy: 0.7941\n",
      "Epoch 25/30\n",
      "702/702 [==============================] - 22s 31ms/step - loss: 0.0288 - accuracy: 0.9908 - val_loss: 0.9717 - val_accuracy: 0.8244\n",
      "Epoch 26/30\n",
      "702/702 [==============================] - 22s 31ms/step - loss: 0.0219 - accuracy: 0.9921 - val_loss: 1.0849 - val_accuracy: 0.8123\n",
      "Epoch 27/30\n",
      "702/702 [==============================] - 22s 31ms/step - loss: 0.0300 - accuracy: 0.9913 - val_loss: 1.7639 - val_accuracy: 0.7328\n",
      "Epoch 28/30\n",
      "702/702 [==============================] - 22s 31ms/step - loss: 0.0204 - accuracy: 0.9935 - val_loss: 1.2060 - val_accuracy: 0.7941\n",
      "Epoch 29/30\n",
      "702/702 [==============================] - 22s 31ms/step - loss: 0.0130 - accuracy: 0.9960 - val_loss: 1.1894 - val_accuracy: 0.7987\n",
      "Epoch 30/30\n",
      "702/702 [==============================] - 22s 31ms/step - loss: 0.0241 - accuracy: 0.9923 - val_loss: 1.5154 - val_accuracy: 0.7588\n"
     ]
    },
    {
     "data": {
      "text/plain": [
       "<keras.callbacks.History at 0x7f7481396670>"
      ]
     },
     "execution_count": 10,
     "metadata": {},
     "output_type": "execute_result"
    }
   ],
   "source": [
    "model.fit(x_train, y_train, batch_size=16, validation_split=0.2, epochs=30)"
   ]
  },
  {
   "cell_type": "code",
   "execution_count": 12,
   "id": "c785e001-b819-4382-a596-786741db0dc5",
   "metadata": {
    "tags": []
   },
   "outputs": [
    {
     "name": "stdout",
     "output_type": "stream",
     "text": [
      "94/94 [==============================] - 2s 21ms/step - loss: 1.5062 - accuracy: 0.7553\n",
      "[1.5061975717544556, 0.7553333044052124]\n"
     ]
    }
   ],
   "source": [
    "print(model.evaluate(x_test, y_test))"
   ]
  },
  {
   "cell_type": "code",
   "execution_count": null,
   "id": "335d59c2-baba-48ba-803b-981a09c74a0f",
   "metadata": {},
   "outputs": [],
   "source": [
    "|"
   ]
  }
 ],
 "metadata": {
  "kernelspec": {
   "display_name": "Python 3 (ipykernel)",
   "language": "python",
   "name": "python3"
  },
  "language_info": {
   "codemirror_mode": {
    "name": "ipython",
    "version": 3
   },
   "file_extension": ".py",
   "mimetype": "text/x-python",
   "name": "python",
   "nbconvert_exporter": "python",
   "pygments_lexer": "ipython3",
   "version": "3.9.16"
  }
 },
 "nbformat": 4,
 "nbformat_minor": 5
}
