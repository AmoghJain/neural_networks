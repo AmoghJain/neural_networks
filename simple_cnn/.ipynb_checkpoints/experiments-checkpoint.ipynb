{
 "cells": [
  {
   "cell_type": "code",
   "execution_count": 11,
   "id": "8baf128b-4810-4397-948f-95592d99f11e",
   "metadata": {
    "tags": []
   },
   "outputs": [],
   "source": [
    "import os\n",
    "import cv2\n",
    "import numpy as np\n",
    "import tensorflow as tf\n",
    "from keras import backend\n",
    "from tensorflow import keras\n",
    "from keras.layers import Dense, Conv2D, Dropout, MaxPool2D, Flatten"
   ]
  },
  {
   "cell_type": "code",
   "execution_count": 43,
   "id": "597d7965-44ae-4a70-8f01-2c3d25a6c7ff",
   "metadata": {
    "tags": []
   },
   "outputs": [],
   "source": [
    "def load_data(train_data_dir, pred_data_dir, test_data_dir):\n",
    "    \n",
    "    x_train = list()\n",
    "    y_train = list()\n",
    "    x_pred = list()\n",
    "    x_test = list()\n",
    "    y_test = list()\n",
    "    \n",
    "    for label in os.listdir(train_data_dir):\n",
    "        for img_file in os.listdir(os.path.join(train_data_dir, label)):\n",
    "            img = cv2.imread(os.path.join(train_data_dir, label, img_file))\n",
    "            img = cv2.resize(img, [150, 150])\n",
    "            x_train.append(img)\n",
    "            y_train.append(label)\n",
    "            \n",
    "    for label in os.listdir(test_data_dir):\n",
    "        for img_file in os.listdir(os.path.join(test_data_dir, label)):\n",
    "            img = cv2.imread(os.path.join(test_data_dir, label, img_file))\n",
    "            img = cv2.resize(img, [150, 150])\n",
    "            x_test.append(img)\n",
    "            y_test.append(label)\n",
    "    \n",
    "    for img_file in os.listdir(pred_data_dir):\n",
    "        img = cv2.imread(os.path.join(pred_data_dir, img_file))\n",
    "        img = cv2.resize(img, [150, 150])\n",
    "        x_pred.append(img)\n",
    "        \n",
    "    x_train = np.array(x_train)\n",
    "    y_train = np.array(y_train)\n",
    "    x_pred = np.array(x_pred)\n",
    "    x_test = np.array(x_test)\n",
    "    y_test = np.array(y_test)\n",
    "    \n",
    "    return x_train, y_train, x_pred, x_test, y_test"
   ]
  },
  {
   "cell_type": "code",
   "execution_count": 44,
   "id": "02e32cbd-bafc-451e-a9bc-b45bf95fbe2b",
   "metadata": {
    "tags": []
   },
   "outputs": [],
   "source": [
    "train_data_dir = \"../data/intel/seg_train/seg_train/\"\n",
    "test_data_dir = \"../data/intel/seg_test/seg_test/\"\n",
    "pred_data_dir = \"../data/intel/seg_pred/seg_pred/\"\n",
    "x_train, y_train, x_pred, x_test, y_test = load_data(train_data_dir, pred_data_dir, test_data_dir)"
   ]
  },
  {
   "cell_type": "code",
   "execution_count": 45,
   "id": "2f1af0a5-fe74-493b-9804-0c9427b9985a",
   "metadata": {
    "tags": []
   },
   "outputs": [
    {
     "name": "stdout",
     "output_type": "stream",
     "text": [
      "(14034, 150, 150, 3) (14034,) (7301, 150, 150, 3) (3000, 150, 150, 3) (3000,)\n"
     ]
    }
   ],
   "source": [
    "print(x_train.shape, y_train.shape, x_pred.shape, x_test.shape, y_test.shape)"
   ]
  },
  {
   "cell_type": "code",
   "execution_count": 46,
   "id": "5aa0a7e5-190e-444c-8cc1-df6c20810759",
   "metadata": {
    "tags": []
   },
   "outputs": [],
   "source": [
    "for x in x_train:\n",
    "    if x.shape != (150, 150, 3):\n",
    "        print(x.shape)"
   ]
  },
  {
   "cell_type": "code",
   "execution_count": null,
   "id": "a23793d4-87b5-4d58-a693-e38d04134448",
   "metadata": {},
   "outputs": [],
   "source": []
  }
 ],
 "metadata": {
  "kernelspec": {
   "display_name": "Python 3 (ipykernel)",
   "language": "python",
   "name": "python3"
  },
  "language_info": {
   "codemirror_mode": {
    "name": "ipython",
    "version": 3
   },
   "file_extension": ".py",
   "mimetype": "text/x-python",
   "name": "python",
   "nbconvert_exporter": "python",
   "pygments_lexer": "ipython3",
   "version": "3.9.16"
  }
 },
 "nbformat": 4,
 "nbformat_minor": 5
}
